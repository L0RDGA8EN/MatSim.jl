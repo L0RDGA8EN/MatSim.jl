{
 "cells": [
  {
   "cell_type": "code",
   "execution_count": 12,
   "id": "136d3b1a-64f5-42ab-bbdf-88247dfa4e00",
   "metadata": {},
   "outputs": [
    {
     "name": "stdout",
     "output_type": "stream",
     "text": [
      "[ True  True  True]\n",
      "0.934890813430038\n",
      "[ 6.63516647e-05 -2.74680128e-05  3.58565506e-05  1.13711048e-05\n",
      " -1.48437601e-05  1.93769399e-05  8.34498352e-38  3.32992414e-38\n",
      "  6.45128298e-39  2.12878056e-38  2.59314077e-39  5.00047745e-40\n",
      "  1.22875143e-37  9.68836738e-39  6.24653751e-39  4.16118463e-38\n",
      "  3.04948694e-39  4.86423973e-40]\n",
      "[ 1.57117991e-04 -9.07944562e-06  7.04267026e-05  5.24677869e-07\n",
      " -4.06977846e-06  3.15681253e-05  1.43512346e-37 -1.95209338e-38\n",
      "  4.50303141e-39  1.47695879e-37  3.14093397e-38  7.22389700e-39\n",
      "  6.85163668e-37  4.68946965e-37  1.67055859e-37  6.01824717e-37\n",
      "  1.77153805e-37  5.51762040e-38]\n",
      "(4, 18)\n",
      "[0.00024649 0.00024649 0.00024649 0.00024649]\n"
     ]
    }
   ],
   "source": [
    "from ase.build import bulk\n",
    "from dscribe.descriptors import SOAP\n",
    "\n",
    "r_cut = 6.0\n",
    "n_max = 3\n",
    "l_max = 2\n",
    "\n",
    "copper = bulk('Cu', 'fcc', a=3.6, cubic=True)\n",
    "gold = bulk('Cu', 'bcc', a=3.6, cubic=True)\n",
    "print(copper.get_pbc())\n",
    "\n",
    "periodic_soap = SOAP(\n",
    "    species=[29],\n",
    "    r_cut=r_cut,\n",
    "    n_max=n_max,\n",
    "    l_max=l_max,\n",
    "    rbf=\"polynomial\",\n",
    "    periodic=True,\n",
    "    sparse=False,\n",
    "    sigma = 0.05\n",
    ")\n",
    "\n",
    "from numpy import dot,sqrt\n",
    "soap_copper = periodic_soap.create(copper)\n",
    "soap_gold = periodic_soap.create(gold)\n",
    "print(dot(soap_copper[1,:],soap_gold[1,:])/sqrt(dot(soap_copper[1,:],soap_copper[1,:]) * dot(soap_gold[1,:],soap_gold[1,:])))\n",
    "print(soap_gold[1,:])\n",
    "print(soap_copper[1,:])\n",
    "print(soap_copper.shape)\n",
    "print(soap_copper.sum(axis=1))"
   ]
  },
  {
   "cell_type": "code",
   "execution_count": 11,
   "id": "428dd570-9d5a-43d7-897f-95b425d68cfb",
   "metadata": {},
   "outputs": [
    {
     "data": {
      "text/plain": [
       "18"
      ]
     },
     "execution_count": 11,
     "metadata": {},
     "output_type": "execute_result"
    }
   ],
   "source": [
    "n = 3\n",
    "l = 2\n",
    "sum(range(n+1)) * (l + 1)"
   ]
  },
  {
   "cell_type": "code",
   "execution_count": null,
   "id": "3070550e-83b8-48dc-a96a-f025d0770ae1",
   "metadata": {},
   "outputs": [],
   "source": []
  }
 ],
 "metadata": {
  "kernelspec": {
   "display_name": "Python 3 (ipykernel)",
   "language": "python",
   "name": "python3"
  },
  "language_info": {
   "codemirror_mode": {
    "name": "ipython",
    "version": 3
   },
   "file_extension": ".py",
   "mimetype": "text/x-python",
   "name": "python",
   "nbconvert_exporter": "python",
   "pygments_lexer": "ipython3",
   "version": "3.12.2"
  }
 },
 "nbformat": 4,
 "nbformat_minor": 5
}
